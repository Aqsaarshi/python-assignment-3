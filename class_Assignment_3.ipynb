{
  "nbformat": 4,
  "nbformat_minor": 0,
  "metadata": {
    "colab": {
      "provenance": [],
      "authorship_tag": "ABX9TyNMK0nQMvHXV0tYizllH5Yx",
      "include_colab_link": true
    },
    "kernelspec": {
      "name": "python3",
      "display_name": "Python 3"
    },
    "language_info": {
      "name": "python"
    }
  },
  "cells": [
    {
      "cell_type": "markdown",
      "metadata": {
        "id": "view-in-github",
        "colab_type": "text"
      },
      "source": [
        "<a href=\"https://colab.research.google.com/github/Aqsaarshi/python-assignment-3/blob/main/class_Assignment_3.ipynb\" target=\"_parent\"><img src=\"https://colab.research.google.com/assets/colab-badge.svg\" alt=\"Open In Colab\"/></a>"
      ]
    },
    {
      "cell_type": "markdown",
      "source": [
        "Class Assignment 3\n",
        "**Basic List Operations**\n",
        "\n",
        "\n",
        "1. Create a list of five numbers and append a new number to it. Print the updated list.\n"
      ],
      "metadata": {
        "id": "Qai-VFfRn73j"
      }
    },
    {
      "cell_type": "code",
      "source": [
        "numbers = [1,2,3,4,5]\n",
        "numbers.append(6)\n",
        "print(numbers)"
      ],
      "metadata": {
        "colab": {
          "base_uri": "https://localhost:8080/"
        },
        "id": "S1yR2IA_oI5c",
        "outputId": "13c2e505-2795-497c-cbd1-8acb0cbe1dc1"
      },
      "execution_count": 103,
      "outputs": [
        {
          "output_type": "stream",
          "name": "stdout",
          "text": [
            "[1, 2, 3, 4, 5, 6]\n"
          ]
        }
      ]
    },
    {
      "cell_type": "markdown",
      "source": [
        "2. Extend a list [1, 2, 3] with another list [4, 5, 6]. Print the result.\n"
      ],
      "metadata": {
        "id": "Qz7AXkCEojZ7"
      }
    },
    {
      "cell_type": "code",
      "source": [
        "list_1 = [1,2,3]\n",
        "list_1.extend([4,5,6])\n",
        "print(list_1)"
      ],
      "metadata": {
        "colab": {
          "base_uri": "https://localhost:8080/"
        },
        "id": "VTVwszaHo67N",
        "outputId": "c39369c5-ce7d-4b90-fb63-e83ed5aa1b48"
      },
      "execution_count": 105,
      "outputs": [
        {
          "output_type": "stream",
          "name": "stdout",
          "text": [
            "[1, 2, 3, 4, 5, 6]\n"
          ]
        }
      ]
    },
    {
      "cell_type": "markdown",
      "source": [
        "3. Insert the string \"Python\" at index 2 in the list [\"Java\", \"C++\", \"JavaScript\",\n",
        "\"Ruby\"]."
      ],
      "metadata": {
        "id": "FDQLovdxpI5n"
      }
    },
    {
      "cell_type": "code",
      "source": [
        "language = [\"Java\", \"C++\", \"JavaScript\", \"Ruby\"]\n",
        "language.insert(2,\"Python\")\n",
        "print(language)"
      ],
      "metadata": {
        "colab": {
          "base_uri": "https://localhost:8080/"
        },
        "id": "3MqnyQPlpKKZ",
        "outputId": "6ec5508a-a6f2-4204-9c2b-78308782c4a3"
      },
      "execution_count": 106,
      "outputs": [
        {
          "output_type": "stream",
          "name": "stdout",
          "text": [
            "['Java', 'C++', 'Python', 'JavaScript', 'Ruby']\n"
          ]
        }
      ]
    },
    {
      "cell_type": "markdown",
      "source": [
        "4. Remove the first occurrence of the number 10 from the list [10, 20, 30, 10, 40].\n"
      ],
      "metadata": {
        "id": "M06870n4pgtm"
      }
    },
    {
      "cell_type": "code",
      "source": [
        "number_list= [10,20,30,10,40]\n",
        "number_list.remove(10)\n",
        "print(number_list)"
      ],
      "metadata": {
        "colab": {
          "base_uri": "https://localhost:8080/"
        },
        "id": "GH1C1qdRpjZj",
        "outputId": "4a0259e0-4e0a-4f2e-fec2-bed77e8ec9e8"
      },
      "execution_count": 107,
      "outputs": [
        {
          "output_type": "stream",
          "name": "stdout",
          "text": [
            "[20, 30, 10, 40]\n"
          ]
        }
      ]
    },
    {
      "cell_type": "markdown",
      "source": [
        "5. Use the pop() method to remove the last element from [100, 200, 300, 400] and\n",
        "print the modified list.\n"
      ],
      "metadata": {
        "id": "ltH1uew3qADq"
      }
    },
    {
      "cell_type": "code",
      "source": [
        "numbers_list = [100,200,300,400]\n",
        "numbers_list.pop()\n",
        "print(numbers_list)"
      ],
      "metadata": {
        "colab": {
          "base_uri": "https://localhost:8080/"
        },
        "id": "F9BipJ9KqD8w",
        "outputId": "24c528c8-eb21-463a-8762-229e48d3d1da"
      },
      "execution_count": 108,
      "outputs": [
        {
          "output_type": "stream",
          "name": "stdout",
          "text": [
            "[100, 200, 300]\n"
          ]
        }
      ]
    },
    {
      "cell_type": "markdown",
      "source": [
        "**Intermediate List Operations**\n",
        "6. Count how many times the number 5 appears in the list [5, 10, 5, 20, 5, 30]"
      ],
      "metadata": {
        "id": "2bUH-mmQqucM"
      }
    },
    {
      "cell_type": "code",
      "source": [
        "Numb = [5,10,5,20,5,30]\n",
        "Numb.count(5)\n",
        "print(Numb.count(5))"
      ],
      "metadata": {
        "colab": {
          "base_uri": "https://localhost:8080/"
        },
        "id": "NhXXxpqtq2Nw",
        "outputId": "772e961b-b32a-467e-eb4e-4fe8b876762d"
      },
      "execution_count": 109,
      "outputs": [
        {
          "output_type": "stream",
          "name": "stdout",
          "text": [
            "3\n"
          ]
        }
      ]
    },
    {
      "cell_type": "markdown",
      "source": [
        "7. Sort the list [9, 1, 8, 3, 5] in ascending and descending order.\n"
      ],
      "metadata": {
        "id": "qIX2m7ZMrpb3"
      }
    },
    {
      "cell_type": "code",
      "source": [
        "assending = [9,1,8,3,5]\n",
        "assending.sort()\n",
        "print(assending)\n",
        "\n",
        "decending = [9,1,8,3,5]\n",
        "decending.sort(reverse=True)\n",
        "print(decending)"
      ],
      "metadata": {
        "colab": {
          "base_uri": "https://localhost:8080/"
        },
        "id": "CFD-Zsrrrqq8",
        "outputId": "e0f63a12-9929-4cb6-9555-ba32bc9e1f31"
      },
      "execution_count": 110,
      "outputs": [
        {
          "output_type": "stream",
          "name": "stdout",
          "text": [
            "[1, 3, 5, 8, 9]\n",
            "[9, 8, 5, 3, 1]\n"
          ]
        }
      ]
    },
    {
      "cell_type": "markdown",
      "source": [
        "8. Reverse the list [“apple”, “banana”, “cherry”] using the reverse() method.\n"
      ],
      "metadata": {
        "id": "4kvonSYbsBWz"
      }
    },
    {
      "cell_type": "code",
      "source": [
        "fruits = [\"apple\",\"banana\",\"cherry\"]\n",
        "fruits.reverse()\n",
        "print(fruits)"
      ],
      "metadata": {
        "colab": {
          "base_uri": "https://localhost:8080/"
        },
        "id": "cHETv_lwsDfz",
        "outputId": "081cbec6-8f40-4ddc-f0f7-cb55098a68c4"
      },
      "execution_count": 111,
      "outputs": [
        {
          "output_type": "stream",
          "name": "stdout",
          "text": [
            "['cherry', 'banana', 'apple']\n"
          ]
        }
      ]
    },
    {
      "cell_type": "markdown",
      "source": [
        "9. Create a copy of the list [1, 2, 3, 4, 5] and store it in another variable. Modify the\n",
        "copied list and print both lists."
      ],
      "metadata": {
        "id": "5pjfCBJMsdb7"
      }
    },
    {
      "cell_type": "code",
      "source": [
        "original = [1,2,3,4,5]\n",
        "copy = original.copy()\n",
        "copy.append(6)\n",
        "print(original)\n",
        "print(copy)"
      ],
      "metadata": {
        "colab": {
          "base_uri": "https://localhost:8080/"
        },
        "id": "lzP_McowsfP1",
        "outputId": "bc8c44a2-7a3e-4043-d163-edbe34670546"
      },
      "execution_count": 112,
      "outputs": [
        {
          "output_type": "stream",
          "name": "stdout",
          "text": [
            "[1, 2, 3, 4, 5]\n",
            "[1, 2, 3, 4, 5, 6]\n"
          ]
        }
      ]
    },
    {
      "cell_type": "markdown",
      "source": [
        "10. Clear all elements from a list [“hello”, “world”, “python”] using the clear()\n",
        "method."
      ],
      "metadata": {
        "id": "twbA3QmItJlM"
      }
    },
    {
      "cell_type": "code",
      "source": [
        "words = [\"hello\",\"world\",\"python\"]\n",
        "words.clear()\n",
        "print(words)\n"
      ],
      "metadata": {
        "colab": {
          "base_uri": "https://localhost:8080/"
        },
        "id": "T6APMBoHtSUq",
        "outputId": "cd08460c-e27a-4990-fad6-3c8948dcf4ba"
      },
      "execution_count": 113,
      "outputs": [
        {
          "output_type": "stream",
          "name": "stdout",
          "text": [
            "[]\n"
          ]
        }
      ]
    },
    {
      "cell_type": "markdown",
      "source": [
        "**Tuple-Based Questions**\n",
        "11. Create a tuple with 5 different fruits and print the third fruit."
      ],
      "metadata": {
        "id": "HCNORqkot8E2"
      }
    },
    {
      "cell_type": "code",
      "source": [
        "fruits_tuple = (\"apple\",\"banana\",\"orange\",\"kiwi\",\"mango\")\n",
        "print(fruits_tuple[2])"
      ],
      "metadata": {
        "colab": {
          "base_uri": "https://localhost:8080/"
        },
        "id": "Vnw3wpBHuEGn",
        "outputId": "769f7e9b-9908-4e3d-bc41-be7683f63ab0"
      },
      "execution_count": 134,
      "outputs": [
        {
          "output_type": "stream",
          "name": "stdout",
          "text": [
            "orange\n"
          ]
        }
      ]
    },
    {
      "cell_type": "markdown",
      "source": [
        "12. Convert the tuple (10, 20, 30, 40, 50) into a list, remove the number 30, and convert\n",
        "it back into a tuple.\n"
      ],
      "metadata": {
        "id": "qBz7n1Bc7Rou"
      }
    },
    {
      "cell_type": "code",
      "source": [
        "\n",
        "my_tuple = (10, 20, 30, 40, 50)\n",
        "my_list = builtins.list(my_tuple)\n",
        "my_list.remove(30)\n",
        "my_tuple =builtins.tuple(my_list)\n",
        "my_tuple"
      ],
      "metadata": {
        "colab": {
          "base_uri": "https://localhost:8080/"
        },
        "id": "OZaAZvjG7VaY",
        "outputId": "ef38a426-a022-417c-bf51-be610124f934"
      },
      "execution_count": 197,
      "outputs": [
        {
          "output_type": "execute_result",
          "data": {
            "text/plain": [
              "(10, 20, 40, 50)"
            ]
          },
          "metadata": {},
          "execution_count": 197
        }
      ]
    },
    {
      "cell_type": "markdown",
      "source": [
        "13. Try to append an element to the tuple (“A”, “B”, “C”). What happens? How can you\n",
        "modify a tuple indirectly?"
      ],
      "metadata": {
        "id": "1CgozEDs7Ydv"
      }
    },
    {
      "cell_type": "code",
      "source": [
        "tuple1=(\"A\",\"B\",\"C\")\n",
        "#tuple1.append(\"D\")\n",
        "#print(tuple1)\n",
        "modified_tuple = tuple1 + (\"D\",)\n",
        "print(modified_tuple)"
      ],
      "metadata": {
        "colab": {
          "base_uri": "https://localhost:8080/"
        },
        "id": "unfoQP1k7dtd",
        "outputId": "7a734e81-83ad-42a5-f629-77eeb1edd147"
      },
      "execution_count": 198,
      "outputs": [
        {
          "output_type": "stream",
          "name": "stdout",
          "text": [
            "('A', 'B', 'C', 'D')\n"
          ]
        }
      ]
    },
    {
      "cell_type": "markdown",
      "source": [
        "14. Unpack the tuple (100, 200, 300) into three separate variables and print them.\n"
      ],
      "metadata": {
        "id": "cv-Nb8TS7-hl"
      }
    },
    {
      "cell_type": "code",
      "source": [
        "A,B,C =(100,200,300)\n",
        "print(A,B,C)\n"
      ],
      "metadata": {
        "colab": {
          "base_uri": "https://localhost:8080/"
        },
        "id": "TUJChlCI8ENZ",
        "outputId": "795da331-90a6-4468-d423-49d1fd458373"
      },
      "execution_count": 199,
      "outputs": [
        {
          "output_type": "stream",
          "name": "stdout",
          "text": [
            "100 200 300\n"
          ]
        }
      ]
    },
    {
      "cell_type": "markdown",
      "source": [
        "15. Count the occurrences of 7 in the tuple (7, 1, 7, 3, 7, 5).\n"
      ],
      "metadata": {
        "id": "wcqs2PCI8UYq"
      }
    },
    {
      "cell_type": "code",
      "source": [
        "count_7 = (7, 1, 7, 3, 7, 5).count(7)\n",
        "print(count_7)"
      ],
      "metadata": {
        "colab": {
          "base_uri": "https://localhost:8080/"
        },
        "id": "6X0ScZeh8Xta",
        "outputId": "3e895bbd-9e0a-4ac0-f130-706143bf15c2"
      },
      "execution_count": 200,
      "outputs": [
        {
          "output_type": "stream",
          "name": "stdout",
          "text": [
            "3\n"
          ]
        }
      ]
    },
    {
      "cell_type": "markdown",
      "source": [
        "**Advanced Problems**\n",
        "16. Write a function that takes a list and returns a new list with all even numbers removed.\n"
      ],
      "metadata": {
        "id": "9lXNe_gs8zYa"
      }
    },
    {
      "cell_type": "code",
      "source": [
        "def remove_evens(lst):\n",
        "    return [x for x in lst if x % 2 != 0]\n",
        "\n",
        "numbers = [1, 2, 3, 4, 5, 6, 7, 8, 9, 10]\n",
        "result = remove_evens(numbers)\n",
        "print(result)\n"
      ],
      "metadata": {
        "colab": {
          "base_uri": "https://localhost:8080/"
        },
        "id": "oio0hMEh_w-T",
        "outputId": "3e681b59-8f85-4f49-8d89-f97bd77c905d"
      },
      "execution_count": 201,
      "outputs": [
        {
          "output_type": "stream",
          "name": "stdout",
          "text": [
            "[1, 3, 5, 7, 9]\n"
          ]
        }
      ]
    },
    {
      "cell_type": "markdown",
      "source": [
        "17. Create a function that accepts a list and returns a new list with elements sorted in descending order without using the sort() method.\n",
        "\n"
      ],
      "metadata": {
        "id": "nvmgPGIs_9JO"
      }
    },
    {
      "cell_type": "code",
      "source": [
        "def sort_descening(lst):\n",
        "    return sorted(lst, reverse=True)\n",
        "\n",
        "numbers = [5, 2, 9, 1, 7]\n",
        "sorted_numbers = sort_descening(numbers)\n",
        "print(sorted_numbers)\n"
      ],
      "metadata": {
        "colab": {
          "base_uri": "https://localhost:8080/"
        },
        "id": "-ipKXv4-AHA_",
        "outputId": "b3632782-cbf6-4697-b165-2101b3672b31"
      },
      "execution_count": 213,
      "outputs": [
        {
          "output_type": "stream",
          "name": "stdout",
          "text": [
            "[9, 7, 5, 2, 1]\n"
          ]
        }
      ]
    },
    {
      "cell_type": "markdown",
      "source": [
        "18. Given a list of numbers, write a program to remove all duplicate elements and print the\n",
        "unique elements."
      ],
      "metadata": {
        "id": "BoxTAvLDEmSG"
      }
    },
    {
      "cell_type": "code",
      "source": [
        "def remove_duplicates(lst):\n",
        "\n",
        "    return builtins.list(set(lst))\n",
        "\n",
        "import builtins\n",
        "\n",
        "numbers = [1, 2, 3, 2, 4, 5, 5, 6, 7, 7]\n",
        "unique_numbers = remove_duplicates(numbers)\n",
        "print(unique_numbers)"
      ],
      "metadata": {
        "colab": {
          "base_uri": "https://localhost:8080/"
        },
        "id": "-8UCMzZHGSrE",
        "outputId": "f91538aa-bd2a-4d63-8fe9-3b895307923f"
      },
      "execution_count": 225,
      "outputs": [
        {
          "output_type": "stream",
          "name": "stdout",
          "text": [
            "[1, 2, 3, 4, 5, 6, 7]\n"
          ]
        }
      ]
    },
    {
      "cell_type": "markdown",
      "source": [
        "19. Given a tuple of names (“Alice”, “Bob”, “Charlie”, “Alice”, “David”), convert\n",
        "it into a list, remove duplicates, and convert it back to a tuple."
      ],
      "metadata": {
        "id": "EcAKb5sfGyvg"
      }
    },
    {
      "cell_type": "code",
      "source": [
        "names = (\"Alice\", \"Bob\", \"Charlie\", \"Alice\", \"David\")\n",
        "unique_names = builtins.tuple(set(names))\n",
        "print(unique_names)"
      ],
      "metadata": {
        "colab": {
          "base_uri": "https://localhost:8080/"
        },
        "id": "6K4mdt5SG2CM",
        "outputId": "67e5409c-1a03-4483-fedd-b4bed98b5cac"
      },
      "execution_count": 229,
      "outputs": [
        {
          "output_type": "stream",
          "name": "stdout",
          "text": [
            "('Bob', 'Charlie', 'Alice', 'David')\n"
          ]
        }
      ]
    },
    {
      "cell_type": "markdown",
      "source": [
        "20. Create a program that takes a list of mixed data types (int, str, float) and separates\n",
        "integers into one list, strings into another, and floats into another."
      ],
      "metadata": {
        "id": "2Wz1nd_WKoEm"
      }
    },
    {
      "cell_type": "code",
      "source": [
        "def separate_types(lst):\n",
        "    ints = [x for x in lst if isinstance(x, int)]\n",
        "    strs = [x for x in lst if isinstance(x, str)]\n",
        "    floats = [x for x in lst if isinstance(x, float)]\n",
        "    return ints, strs, floats\n",
        "\n",
        "mixed_list = [1, \"hello\", 2.5, 3, \"world\", 4.0]\n",
        "ints, strs, floats = separate_types(mixed_list)\n",
        "print(\"Integers:\", ints)\n",
        "print(\"Strings:\", strs)\n",
        "print(\"Floats:\", floats)"
      ],
      "metadata": {
        "colab": {
          "base_uri": "https://localhost:8080/"
        },
        "id": "ihiKAzc4KpTd",
        "outputId": "b2d1caaf-9576-47de-d2a5-09ba0e56a96c"
      },
      "execution_count": 230,
      "outputs": [
        {
          "output_type": "stream",
          "name": "stdout",
          "text": [
            "Integers: [1, 3]\n",
            "Strings: ['hello', 'world']\n",
            "Floats: [2.5, 4.0]\n"
          ]
        }
      ]
    }
  ]
}